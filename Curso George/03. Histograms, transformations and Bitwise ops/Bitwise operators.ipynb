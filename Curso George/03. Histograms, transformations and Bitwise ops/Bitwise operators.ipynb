{
 "cells": [
  {
   "cell_type": "markdown",
   "metadata": {},
   "source": [
    "# Bitwise operations"
   ]
  },
  {
   "cell_type": "code",
   "execution_count": 3,
   "metadata": {
    "ExecuteTime": {
     "end_time": "2019-11-19T09:54:11.762369Z",
     "start_time": "2019-11-19T09:54:09.945225Z"
    }
   },
   "outputs": [],
   "source": [
    "import cv2\n",
    "import numpy as np\n",
    "import matplotlib.pyplot as plt\n",
    "%matplotlib inline"
   ]
  },
  {
   "cell_type": "code",
   "execution_count": null,
   "metadata": {
    "ExecuteTime": {
     "end_time": "2019-11-19T11:06:24.850644Z",
     "start_time": "2019-11-19T11:06:24.513283Z"
    },
    "scrolled": true
   },
   "outputs": [],
   "source": [
    "# With numpy create a black canvas of size 800 x 800 \n"
   ]
  },
  {
   "cell_type": "code",
   "execution_count": null,
   "metadata": {
    "ExecuteTime": {
     "end_time": "2019-11-19T11:06:48.072456Z",
     "start_time": "2019-11-19T11:06:47.716822Z"
    },
    "scrolled": false
   },
   "outputs": [],
   "source": [
    "# Make a copy of the canvas and draw a white square of size 250 x 250 on top of the copy of the canvas\n"
   ]
  },
  {
   "cell_type": "code",
   "execution_count": null,
   "metadata": {
    "ExecuteTime": {
     "end_time": "2019-11-19T11:07:00.604952Z",
     "start_time": "2019-11-19T11:07:00.262306Z"
    },
    "scrolled": false
   },
   "outputs": [],
   "source": [
    "# Make a copy of the origina lcanvas and draw a white circle of size 200 x 200 on top of the copy of the canvas\n",
    "# Make sure the circle is in a different position of the canvas than the square\n"
   ]
  },
  {
   "cell_type": "code",
   "execution_count": null,
   "metadata": {
    "ExecuteTime": {
     "end_time": "2019-11-19T11:07:22.135906Z",
     "start_time": "2019-11-19T11:07:21.792192Z"
    },
    "scrolled": false
   },
   "outputs": [],
   "source": [
    "# Create a new image and merge both previous images (square and circle) with a bitwise and operation\n"
   ]
  },
  {
   "cell_type": "code",
   "execution_count": null,
   "metadata": {
    "ExecuteTime": {
     "end_time": "2019-11-19T11:07:43.011377Z",
     "start_time": "2019-11-19T11:07:42.571102Z"
    },
    "scrolled": false
   },
   "outputs": [],
   "source": [
    "# Create a new image and merge both previous images (square and circle) with a bitwise or operation\n"
   ]
  },
  {
   "cell_type": "code",
   "execution_count": null,
   "metadata": {
    "ExecuteTime": {
     "end_time": "2019-11-19T11:08:15.344656Z",
     "start_time": "2019-11-19T11:08:15.007321Z"
    },
    "scrolled": false
   },
   "outputs": [],
   "source": [
    "# Create a new image and merge both previous images (square and circle) with a bitwise not operation\n"
   ]
  },
  {
   "cell_type": "code",
   "execution_count": null,
   "metadata": {
    "ExecuteTime": {
     "end_time": "2019-11-19T11:08:34.140004Z",
     "start_time": "2019-11-19T11:08:33.752172Z"
    }
   },
   "outputs": [],
   "source": [
    "# Create a new image and merge both previous images (square and circle) with a bitwise xor operation\n"
   ]
  },
  {
   "cell_type": "code",
   "execution_count": 1,
   "metadata": {},
   "outputs": [],
   "source": [
    "# Load a color image and convert it to HSV\n",
    "# Identify a prominent color from the image and filter it out\n",
    "# Create a mask for that color and apply a bitwise and specifying the mask to show only this part of the image\n"
   ]
  },
  {
   "cell_type": "code",
   "execution_count": null,
   "metadata": {},
   "outputs": [],
   "source": [
    "# With the same image and mask you have created above now apply a bitwise not specifying the mask \n",
    "# to show everything but the color you masked out before\n"
   ]
  }
 ],
 "metadata": {
  "kernelspec": {
   "display_name": "Python 3",
   "language": "python",
   "name": "python3"
  },
  "language_info": {
   "codemirror_mode": {
    "name": "ipython",
    "version": 3
   },
   "file_extension": ".py",
   "mimetype": "text/x-python",
   "name": "python",
   "nbconvert_exporter": "python",
   "pygments_lexer": "ipython3",
   "version": "3.8.2"
  }
 },
 "nbformat": 4,
 "nbformat_minor": 2
}
