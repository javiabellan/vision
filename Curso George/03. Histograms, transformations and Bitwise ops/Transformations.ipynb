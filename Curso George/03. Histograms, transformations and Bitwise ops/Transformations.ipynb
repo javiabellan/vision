{
 "cells": [
  {
   "cell_type": "markdown",
   "metadata": {},
   "source": [
    "# Transformations"
   ]
  },
  {
   "cell_type": "code",
   "execution_count": 3,
   "metadata": {
    "ExecuteTime": {
     "end_time": "2019-11-19T09:54:11.762369Z",
     "start_time": "2019-11-19T09:54:09.945225Z"
    }
   },
   "outputs": [],
   "source": [
    "import cv2\n",
    "import numpy as np\n",
    "import matplotlib.pyplot as plt\n",
    "%matplotlib inline"
   ]
  },
  {
   "cell_type": "markdown",
   "metadata": {},
   "source": [
    "### Translations"
   ]
  },
  {
   "cell_type": "code",
   "execution_count": null,
   "metadata": {
    "ExecuteTime": {
     "end_time": "2019-11-19T09:54:16.122340Z",
     "start_time": "2019-11-19T09:54:16.081582Z"
    }
   },
   "outputs": [],
   "source": [
    "# Load an image\n"
   ]
  },
  {
   "cell_type": "code",
   "execution_count": null,
   "metadata": {
    "ExecuteTime": {
     "end_time": "2019-11-19T08:57:30.465090Z",
     "start_time": "2019-11-19T08:57:30.453852Z"
    }
   },
   "outputs": [],
   "source": [
    "# Store the height and width of the image (you will need them later)\n"
   ]
  },
  {
   "cell_type": "code",
   "execution_count": null,
   "metadata": {
    "ExecuteTime": {
     "end_time": "2019-11-19T09:54:17.917580Z",
     "start_time": "2019-11-19T09:54:16.975924Z"
    },
    "scrolled": false
   },
   "outputs": [],
   "source": [
    "# Create the translation Matrix\n"
   ]
  },
  {
   "cell_type": "code",
   "execution_count": null,
   "metadata": {
    "ExecuteTime": {
     "end_time": "2019-11-19T08:57:47.577499Z",
     "start_time": "2019-11-19T08:57:47.572320Z"
    }
   },
   "outputs": [],
   "source": [
    "# Apply the translation to the image using cv2.warpAffine and display the new image\n"
   ]
  },
  {
   "cell_type": "markdown",
   "metadata": {},
   "source": [
    "### Rotation"
   ]
  },
  {
   "cell_type": "code",
   "execution_count": null,
   "metadata": {
    "ExecuteTime": {
     "end_time": "2019-11-19T09:15:44.461759Z",
     "start_time": "2019-11-19T09:15:44.439486Z"
    }
   },
   "outputs": [],
   "source": [
    "# Load an image\n",
    "\n",
    "# Create a rotation matrix to rotate the image by 45 degrees (using the center as the pivot point) \n"
   ]
  },
  {
   "cell_type": "markdown",
   "metadata": {},
   "source": [
    "[Hint](# \"cv2.getRotationMatrix2D\") \n"
   ]
  },
  {
   "cell_type": "code",
   "execution_count": 6,
   "metadata": {
    "ExecuteTime": {
     "end_time": "2019-11-19T09:17:37.537779Z",
     "start_time": "2019-11-19T09:17:36.726813Z"
    }
   },
   "outputs": [],
   "source": [
    "# Apply the rotation matrix to the image and display the rotated image\n"
   ]
  },
  {
   "cell_type": "markdown",
   "metadata": {},
   "source": [
    "### Scaling images"
   ]
  },
  {
   "cell_type": "markdown",
   "metadata": {},
   "source": [
    "#### Interpolation methods"
   ]
  },
  {
   "cell_type": "markdown",
   "metadata": {},
   "source": [
    "* INTER_NEAREST - a nearest-neighbor interpolation (Fastest)\n",
    "* INTER_LINEAR - a bilinear interpolation (used by default) (good for upsampling)\n",
    "* INTER_AREA - resampling using pixel area relation. It may be a preferred method for image decimation, as it gives moire’-free results. But when the image is zoomed, it is similar to the INTER_NEAREST method. (Good for downsampling)\n",
    "* INTER_CUBIC - a bicubic interpolation over 4x4 pixel neighborhood (Better)\n",
    "* INTER_LANCZOS4 - a Lanczos interpolation over 8x8 pixel neighborhood (Best one)"
   ]
  },
  {
   "cell_type": "markdown",
   "metadata": {},
   "source": [
    "#### Downsampling"
   ]
  },
  {
   "cell_type": "code",
   "execution_count": null,
   "metadata": {
    "ExecuteTime": {
     "end_time": "2019-11-19T09:28:00.881432Z",
     "start_time": "2019-11-19T09:28:00.585517Z"
    },
    "scrolled": false
   },
   "outputs": [],
   "source": [
    "# Load and image and downsample it by half, try all the interpolation methods\n",
    "# which one renders the best result?\n"
   ]
  },
  {
   "cell_type": "markdown",
   "metadata": {},
   "source": [
    "[Hint](# \"cv2.resize\") "
   ]
  },
  {
   "cell_type": "markdown",
   "metadata": {},
   "source": [
    "#### Upsampling"
   ]
  },
  {
   "cell_type": "code",
   "execution_count": null,
   "metadata": {
    "ExecuteTime": {
     "end_time": "2019-11-19T09:34:32.363684Z",
     "start_time": "2019-11-19T09:34:31.754665Z"
    }
   },
   "outputs": [],
   "source": [
    "# Load and image and upsample it by double its size, try all the interpolation methods \n",
    "# which one renders the best result?\n",
    "\n"
   ]
  }
 ],
 "metadata": {
  "kernelspec": {
   "display_name": "Python 3",
   "language": "python",
   "name": "python3"
  },
  "language_info": {
   "codemirror_mode": {
    "name": "ipython",
    "version": 3
   },
   "file_extension": ".py",
   "mimetype": "text/x-python",
   "name": "python",
   "nbconvert_exporter": "python",
   "pygments_lexer": "ipython3",
   "version": "3.8.2"
  }
 },
 "nbformat": 4,
 "nbformat_minor": 2
}
