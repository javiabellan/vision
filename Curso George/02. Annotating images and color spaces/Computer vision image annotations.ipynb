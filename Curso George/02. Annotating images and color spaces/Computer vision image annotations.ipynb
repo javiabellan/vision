{
 "cells": [
  {
   "cell_type": "markdown",
   "metadata": {
    "code_folding": []
   },
   "source": [
    "# Computer Vision Image annotations"
   ]
  },
  {
   "cell_type": "markdown",
   "metadata": {},
   "source": [
    "### Import statements"
   ]
  },
  {
   "cell_type": "code",
   "execution_count": 1,
   "metadata": {
    "ExecuteTime": {
     "end_time": "2020-02-15T09:14:06.475524Z",
     "start_time": "2020-02-15T09:14:06.427139Z"
    }
   },
   "outputs": [],
   "source": [
    "import cv2\n",
    "import numpy as np"
   ]
  },
  {
   "cell_type": "code",
   "execution_count": null,
   "metadata": {
    "ExecuteTime": {
     "end_time": "2020-02-15T09:14:07.124720Z",
     "start_time": "2020-02-15T09:14:07.105909Z"
    }
   },
   "outputs": [],
   "source": [
    "cv2.__version__"
   ]
  },
  {
   "cell_type": "markdown",
   "metadata": {},
   "source": [
    "### To edit an image making a copy of it is always a good idea!"
   ]
  },
  {
   "cell_type": "code",
   "execution_count": null,
   "metadata": {
    "ExecuteTime": {
     "end_time": "2020-02-15T09:35:27.721084Z",
     "start_time": "2020-02-15T09:35:27.716611Z"
    }
   },
   "outputs": [],
   "source": [
    "# Load an image\n",
    "# And make a copy of the original image to avoid manipulating the original image\n"
   ]
  },
  {
   "cell_type": "markdown",
   "metadata": {},
   "source": [
    "[Hint](# \"Numpy .copy function\") "
   ]
  },
  {
   "cell_type": "markdown",
   "metadata": {},
   "source": [
    "## Drawing"
   ]
  },
  {
   "cell_type": "markdown",
   "metadata": {},
   "source": [
    "### Drawing lines"
   ]
  },
  {
   "cell_type": "code",
   "execution_count": null,
   "metadata": {
    "ExecuteTime": {
     "end_time": "2020-02-15T09:38:40.721765Z",
     "start_time": "2020-02-15T09:38:39.828422Z"
    }
   },
   "outputs": [],
   "source": [
    "# Draw some lines on top of the image "
   ]
  },
  {
   "cell_type": "markdown",
   "metadata": {},
   "source": [
    "[Hint](# \"cv2.line function\") "
   ]
  },
  {
   "cell_type": "markdown",
   "metadata": {},
   "source": [
    "### Circles"
   ]
  },
  {
   "cell_type": "code",
   "execution_count": 2,
   "metadata": {
    "ExecuteTime": {
     "end_time": "2020-02-15T09:43:32.430250Z",
     "start_time": "2020-02-15T09:43:31.636424Z"
    }
   },
   "outputs": [],
   "source": [
    "# Draw some circles on top of the image"
   ]
  },
  {
   "cell_type": "markdown",
   "metadata": {},
   "source": [
    "[Hint](# \"cv2.circle\") "
   ]
  },
  {
   "cell_type": "markdown",
   "metadata": {},
   "source": [
    "### Ellipses"
   ]
  },
  {
   "cell_type": "code",
   "execution_count": 3,
   "metadata": {
    "ExecuteTime": {
     "end_time": "2020-02-15T09:45:24.604320Z",
     "start_time": "2020-02-15T09:45:23.867554Z"
    },
    "scrolled": false
   },
   "outputs": [],
   "source": [
    "# Draw some elipses on top of the image\n"
   ]
  },
  {
   "cell_type": "markdown",
   "metadata": {},
   "source": [
    "[Hint](# \"cv2.ellipse\") "
   ]
  },
  {
   "cell_type": "markdown",
   "metadata": {},
   "source": [
    "### Poligons"
   ]
  },
  {
   "cell_type": "code",
   "execution_count": 4,
   "metadata": {
    "ExecuteTime": {
     "end_time": "2020-02-15T09:46:07.427824Z",
     "start_time": "2020-02-15T09:46:07.407515Z"
    }
   },
   "outputs": [],
   "source": [
    "# Lets draw some poligons, first declare the points of the poligon\n"
   ]
  },
  {
   "cell_type": "markdown",
   "metadata": {},
   "source": [
    "[Hint](# \"Example: np.array([[10,5],[120,130],[170,120],[250,210]], np.int32)\") "
   ]
  },
  {
   "cell_type": "code",
   "execution_count": 5,
   "metadata": {
    "ExecuteTime": {
     "end_time": "2020-02-15T09:46:54.459530Z",
     "start_time": "2020-02-15T09:46:53.738712Z"
    }
   },
   "outputs": [],
   "source": [
    "# Draw the poligon on top of the image\n"
   ]
  },
  {
   "cell_type": "markdown",
   "metadata": {},
   "source": [
    "[Hint](# \"cv2.polylines(img_copy,[pts],False,(255,0,0),3)\")  "
   ]
  },
  {
   "cell_type": "markdown",
   "metadata": {},
   "source": [
    "### Add an overlay on top of an image"
   ]
  },
  {
   "cell_type": "code",
   "execution_count": 6,
   "metadata": {
    "ExecuteTime": {
     "end_time": "2019-11-19T14:13:36.118430Z",
     "start_time": "2019-11-19T14:13:35.248063Z"
    },
    "scrolled": false
   },
   "outputs": [],
   "source": [
    "# Load an image and create a copy of it you can call it overlay\n",
    "# Create a rectangle with a fill color (-1) on top of the overlay image\n",
    "# Combine both images setting some opacity on the overlay\n",
    "# Add some text on top of the overlay and show the image on screen"
   ]
  },
  {
   "cell_type": "markdown",
   "metadata": {},
   "source": [
    "[Hint](# \"cv2.addWeighted\")  "
   ]
  },
  {
   "cell_type": "code",
   "execution_count": null,
   "metadata": {},
   "outputs": [],
   "source": []
  }
 ],
 "metadata": {
  "kernelspec": {
   "display_name": "Python 3",
   "language": "python",
   "name": "python3"
  },
  "language_info": {
   "codemirror_mode": {
    "name": "ipython",
    "version": 3
   },
   "file_extension": ".py",
   "mimetype": "text/x-python",
   "name": "python",
   "nbconvert_exporter": "python",
   "pygments_lexer": "ipython3",
   "version": "3.8.2"
  }
 },
 "nbformat": 4,
 "nbformat_minor": 2
}
