{
 "cells": [
  {
   "cell_type": "markdown",
   "metadata": {},
   "source": [
    "# Computer Vision Morphological Transformations"
   ]
  },
  {
   "cell_type": "code",
   "execution_count": 1,
   "metadata": {
    "ExecuteTime": {
     "end_time": "2019-11-19T09:54:11.762369Z",
     "start_time": "2019-11-19T09:54:09.945225Z"
    }
   },
   "outputs": [],
   "source": [
    "import cv2\n",
    "import numpy as np\n",
    "import matplotlib.pyplot as plt\n",
    "%matplotlib inline"
   ]
  },
  {
   "cell_type": "markdown",
   "metadata": {},
   "source": [
    "## Dilation"
   ]
  },
  {
   "cell_type": "code",
   "execution_count": null,
   "metadata": {
    "ExecuteTime": {
     "end_time": "2019-11-19T11:58:32.374865Z",
     "start_time": "2019-11-19T11:58:31.719747Z"
    }
   },
   "outputs": [],
   "source": [
    "# Create a simple 3 by 3 kernel of ones with numpy\n"
   ]
  },
  {
   "cell_type": "code",
   "execution_count": null,
   "metadata": {
    "ExecuteTime": {
     "end_time": "2019-11-19T11:59:11.235077Z",
     "start_time": "2019-11-19T11:59:11.208459Z"
    }
   },
   "outputs": [],
   "source": [
    "# Load an image, threshold it (binary_inverse) and apply dilation with openCV, try different number of iterations\n"
   ]
  },
  {
   "cell_type": "code",
   "execution_count": null,
   "metadata": {},
   "outputs": [],
   "source": [
    "# Try with bigger kernels (5,5) and (7,7) or bigger and check what is the difference\n"
   ]
  },
  {
   "cell_type": "markdown",
   "metadata": {},
   "source": [
    "[Hint](# \"cv2.dilate\") "
   ]
  },
  {
   "cell_type": "code",
   "execution_count": null,
   "metadata": {},
   "outputs": [],
   "source": [
    "# Repeat the operation but this time create a special kernel with cv2.getStructuringElement, try different elements\n",
    "# For example cv2.MORPH_RECT, cv2.MORPH_ELLIPSE and cv2.MORPH_CROSS, etc.\n",
    "# Compare how the different kernels will affect the image\n"
   ]
  },
  {
   "cell_type": "markdown",
   "metadata": {},
   "source": [
    "## Erosion"
   ]
  },
  {
   "cell_type": "code",
   "execution_count": null,
   "metadata": {
    "ExecuteTime": {
     "end_time": "2019-11-19T12:09:31.261781Z",
     "start_time": "2019-11-19T12:09:30.821524Z"
    },
    "scrolled": false
   },
   "outputs": [],
   "source": [
    "# Using the same kernels, apply Erosion to the thresholded image, make sure to start with a clean image\n"
   ]
  },
  {
   "cell_type": "markdown",
   "metadata": {},
   "source": [
    "[Hint](# \"cv2.erode\") "
   ]
  },
  {
   "cell_type": "markdown",
   "metadata": {},
   "source": [
    "## Morphological Transformations: Opening / Closing"
   ]
  },
  {
   "cell_type": "code",
   "execution_count": null,
   "metadata": {
    "ExecuteTime": {
     "end_time": "2019-11-19T12:12:22.661231Z",
     "start_time": "2019-11-19T12:12:21.489660Z"
    }
   },
   "outputs": [],
   "source": [
    "# Apply opening to the thresholded image, experiment with different iterations \n"
   ]
  },
  {
   "cell_type": "markdown",
   "metadata": {},
   "source": [
    "[Hint](# \"cv2.morphologyEx with cv2.MORPH_OPEN \") "
   ]
  },
  {
   "cell_type": "code",
   "execution_count": null,
   "metadata": {
    "ExecuteTime": {
     "end_time": "2019-11-19T12:13:30.531718Z",
     "start_time": "2019-11-19T12:13:30.124183Z"
    }
   },
   "outputs": [],
   "source": [
    "# Apply closing to the thresholded image, experiment with different iterations \n"
   ]
  },
  {
   "cell_type": "markdown",
   "metadata": {
    "ExecuteTime": {
     "end_time": "2019-11-19T07:40:28.734273Z",
     "start_time": "2019-11-19T07:40:27.802205Z"
    }
   },
   "source": [
    "[Hint](# \"cv2.morphologyEx with cv2.MORPH_CLOSE\") "
   ]
  }
 ],
 "metadata": {
  "kernelspec": {
   "display_name": "Python 3",
   "language": "python",
   "name": "python3"
  },
  "language_info": {
   "codemirror_mode": {
    "name": "ipython",
    "version": 3
   },
   "file_extension": ".py",
   "mimetype": "text/x-python",
   "name": "python",
   "nbconvert_exporter": "python",
   "pygments_lexer": "ipython3",
   "version": "3.8.2"
  }
 },
 "nbformat": 4,
 "nbformat_minor": 2
}
