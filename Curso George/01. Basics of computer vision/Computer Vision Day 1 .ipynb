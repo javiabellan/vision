{
 "cells": [
  {
   "cell_type": "markdown",
   "metadata": {
    "code_folding": []
   },
   "source": [
    "# Computer Vision Basics with openCV"
   ]
  },
  {
   "cell_type": "markdown",
   "metadata": {},
   "source": [
    "### Import statements"
   ]
  },
  {
   "cell_type": "code",
   "execution_count": null,
   "metadata": {
    "ExecuteTime": {
     "end_time": "2020-02-15T10:06:59.811341Z",
     "start_time": "2020-02-15T10:06:58.403504Z"
    }
   },
   "outputs": [],
   "source": [
    "import cv2\n",
    "import numpy as np"
   ]
  },
  {
   "cell_type": "markdown",
   "metadata": {},
   "source": [
    "### Check your openCV version"
   ]
  },
  {
   "cell_type": "code",
   "execution_count": null,
   "metadata": {
    "ExecuteTime": {
     "end_time": "2020-02-15T10:06:59.835914Z",
     "start_time": "2020-02-15T10:06:59.817669Z"
    }
   },
   "outputs": [],
   "source": [
    "cv2.__version__"
   ]
  },
  {
   "cell_type": "markdown",
   "metadata": {},
   "source": [
    "## Computer Vision Basics"
   ]
  },
  {
   "cell_type": "markdown",
   "metadata": {},
   "source": [
    "### Load and Image"
   ]
  },
  {
   "cell_type": "code",
   "execution_count": null,
   "metadata": {
    "ExecuteTime": {
     "end_time": "2020-02-15T10:06:59.892656Z",
     "start_time": "2020-02-15T10:06:59.888270Z"
    }
   },
   "outputs": [],
   "source": [
    "# Declare a variable with the path to your image\n"
   ]
  },
  {
   "cell_type": "code",
   "execution_count": null,
   "metadata": {
    "ExecuteTime": {
     "end_time": "2020-02-15T10:06:59.935493Z",
     "start_time": "2020-02-15T10:06:59.896155Z"
    }
   },
   "outputs": [],
   "source": [
    "# Load the image with openCV\n"
   ]
  },
  {
   "cell_type": "markdown",
   "metadata": {},
   "source": [
    "[Hint](# \"You will need to use cv2.imread\")"
   ]
  },
  {
   "cell_type": "markdown",
   "metadata": {},
   "source": [
    "### Check the image type"
   ]
  },
  {
   "cell_type": "code",
   "execution_count": null,
   "metadata": {
    "ExecuteTime": {
     "end_time": "2020-02-15T10:07:00.045021Z",
     "start_time": "2020-02-15T10:07:00.038668Z"
    }
   },
   "outputs": [],
   "source": [
    "# What is the image type? -> type\n"
   ]
  },
  {
   "cell_type": "markdown",
   "metadata": {},
   "source": [
    "[Hint](# \"Just use the python type function\")"
   ]
  },
  {
   "cell_type": "code",
   "execution_count": null,
   "metadata": {
    "ExecuteTime": {
     "end_time": "2020-02-15T10:07:00.126576Z",
     "start_time": "2020-02-15T10:07:00.119865Z"
    }
   },
   "outputs": [],
   "source": [
    "# Print the value of the pixels of the image\n"
   ]
  },
  {
   "cell_type": "markdown",
   "metadata": {},
   "source": [
    "[Hint](# \"Just use the python print function\")"
   ]
  },
  {
   "cell_type": "markdown",
   "metadata": {},
   "source": [
    "### Show the image using openCV"
   ]
  },
  {
   "cell_type": "code",
   "execution_count": null,
   "metadata": {
    "ExecuteTime": {
     "end_time": "2020-02-15T10:07:03.070345Z",
     "start_time": "2020-02-15T10:07:00.284449Z"
    }
   },
   "outputs": [],
   "source": [
    "# Lets now see the image! dont forget to call destroyAllWindows!\n"
   ]
  },
  {
   "cell_type": "markdown",
   "metadata": {},
   "source": [
    "[Hint](# \"You need to use imshow, waitkey and destroyAllWindows\")"
   ]
  },
  {
   "cell_type": "markdown",
   "metadata": {},
   "source": [
    "### Now lets display unsing matplotlib"
   ]
  },
  {
   "cell_type": "code",
   "execution_count": null,
   "metadata": {
    "ExecuteTime": {
     "end_time": "2020-02-15T10:07:03.757309Z",
     "start_time": "2020-02-15T10:07:03.079024Z"
    }
   },
   "outputs": [],
   "source": [
    "# Import matplotlib\n",
    "import matplotlib.pyplot as plt\n",
    "%matplotlib inline"
   ]
  },
  {
   "cell_type": "code",
   "execution_count": null,
   "metadata": {
    "ExecuteTime": {
     "end_time": "2020-02-15T10:07:04.607236Z",
     "start_time": "2020-02-15T10:07:03.761270Z"
    },
    "scrolled": false
   },
   "outputs": [],
   "source": [
    "# Choose a pyplot figsize to make images fit nicely into the notebook\n",
    "\n",
    "\n",
    "# Now display the image with plt\n"
   ]
  },
  {
   "cell_type": "code",
   "execution_count": null,
   "metadata": {},
   "outputs": [],
   "source": []
  },
  {
   "cell_type": "markdown",
   "metadata": {},
   "source": [
    "### Lets fix the colors"
   ]
  },
  {
   "cell_type": "code",
   "execution_count": null,
   "metadata": {},
   "outputs": [],
   "source": [
    "# Does your image look ok? are the colors the right ones?, if not, lets fix it!\n",
    "# Remember that openCV will load images using BGR rather than RGB\n",
    "# Change the image to RGB and diplay it again with plt\n"
   ]
  },
  {
   "cell_type": "markdown",
   "metadata": {},
   "source": [
    "[Hint](# \"use cvtColor\") "
   ]
  },
  {
   "cell_type": "markdown",
   "metadata": {},
   "source": [
    "### What is the shape of the image?"
   ]
  },
  {
   "cell_type": "code",
   "execution_count": null,
   "metadata": {
    "ExecuteTime": {
     "end_time": "2020-02-15T10:07:05.539643Z",
     "start_time": "2020-02-15T10:07:05.534797Z"
    }
   },
   "outputs": [],
   "source": [
    "# Check the image shape\n"
   ]
  },
  {
   "cell_type": "markdown",
   "metadata": {},
   "source": [
    "### Lets make it grayscale"
   ]
  },
  {
   "cell_type": "code",
   "execution_count": null,
   "metadata": {
    "ExecuteTime": {
     "end_time": "2020-02-15T10:07:05.559714Z",
     "start_time": "2020-02-15T10:07:05.541597Z"
    }
   },
   "outputs": [],
   "source": [
    "# Load the the image in grayscale, what are the 2 ways you can do that?\n"
   ]
  },
  {
   "cell_type": "code",
   "execution_count": null,
   "metadata": {
    "ExecuteTime": {
     "end_time": "2020-02-15T10:07:05.567045Z",
     "start_time": "2020-02-15T10:07:05.563100Z"
    }
   },
   "outputs": [],
   "source": [
    "# Now load an image in color and then transform it to grayscale\n"
   ]
  },
  {
   "cell_type": "markdown",
   "metadata": {},
   "source": [
    "### What is the shape now?"
   ]
  },
  {
   "cell_type": "code",
   "execution_count": null,
   "metadata": {
    "ExecuteTime": {
     "end_time": "2020-02-15T10:07:37.743950Z",
     "start_time": "2020-02-15T10:07:37.738064Z"
    }
   },
   "outputs": [],
   "source": [
    "# Check the grayscale shape\n"
   ]
  },
  {
   "cell_type": "markdown",
   "metadata": {},
   "source": [
    "### How does it look like?"
   ]
  },
  {
   "cell_type": "code",
   "execution_count": null,
   "metadata": {
    "ExecuteTime": {
     "end_time": "2020-02-15T10:07:39.498560Z",
     "start_time": "2020-02-15T10:07:38.626658Z"
    }
   },
   "outputs": [],
   "source": [
    "# Display the grayscale image with matplotlib, how does it look?\n"
   ]
  },
  {
   "cell_type": "markdown",
   "metadata": {},
   "source": [
    "### We need to indicate the colormap"
   ]
  },
  {
   "cell_type": "code",
   "execution_count": null,
   "metadata": {
    "ExecuteTime": {
     "end_time": "2020-02-15T10:07:40.316597Z",
     "start_time": "2020-02-15T10:07:39.503434Z"
    }
   },
   "outputs": [],
   "source": [
    "# Display the grayscale image with matplotlib, make sure to include the colormap so it really is grayscale\n"
   ]
  },
  {
   "cell_type": "markdown",
   "metadata": {},
   "source": [
    "### Cropping an image"
   ]
  },
  {
   "cell_type": "code",
   "execution_count": null,
   "metadata": {
    "ExecuteTime": {
     "end_time": "2020-02-15T10:07:40.627544Z",
     "start_time": "2020-02-15T10:07:40.617380Z"
    }
   },
   "outputs": [],
   "source": [
    "# Lets now crop a Region of Interest of an image, load and image and crop different parts of it\n"
   ]
  },
  {
   "cell_type": "code",
   "execution_count": null,
   "metadata": {
    "ExecuteTime": {
     "end_time": "2020-02-15T10:07:41.382894Z",
     "start_time": "2020-02-15T10:07:40.992510Z"
    }
   },
   "outputs": [],
   "source": [
    "# Save to disk the cropped areas\n"
   ]
  },
  {
   "cell_type": "markdown",
   "metadata": {},
   "source": [
    "### To edit an image making a copy of it is always a good idea!"
   ]
  },
  {
   "cell_type": "code",
   "execution_count": null,
   "metadata": {
    "ExecuteTime": {
     "end_time": "2020-02-15T10:07:47.776324Z",
     "start_time": "2020-02-15T10:07:47.773359Z"
    }
   },
   "outputs": [],
   "source": [
    "# Load an image and then make a copy of it"
   ]
  },
  {
   "cell_type": "markdown",
   "metadata": {},
   "source": [
    "[Hint](# \"use the numpy function \") "
   ]
  },
  {
   "cell_type": "markdown",
   "metadata": {},
   "source": [
    "## Annotating images"
   ]
  },
  {
   "cell_type": "markdown",
   "metadata": {},
   "source": [
    "### Rectangles"
   ]
  },
  {
   "cell_type": "code",
   "execution_count": null,
   "metadata": {
    "ExecuteTime": {
     "end_time": "2020-02-15T10:07:49.454128Z",
     "start_time": "2020-02-15T10:07:49.449440Z"
    }
   },
   "outputs": [],
   "source": [
    "# Draw green rectangle on top of a region of interest in your image\n"
   ]
  },
  {
   "cell_type": "markdown",
   "metadata": {},
   "source": [
    "[Hint](# \"You will need to use the cv2 function rectangle(img, pt1, pt2, color, thickness) -> img\") "
   ]
  },
  {
   "cell_type": "markdown",
   "metadata": {},
   "source": [
    "### Adding text to images"
   ]
  },
  {
   "cell_type": "code",
   "execution_count": null,
   "metadata": {
    "ExecuteTime": {
     "end_time": "2020-02-15T10:07:55.508039Z",
     "start_time": "2020-02-15T10:07:54.651314Z"
    },
    "scrolled": false
   },
   "outputs": [],
   "source": [
    "# Make a copy of your image and then write some text on top of the image\n"
   ]
  },
  {
   "cell_type": "markdown",
   "metadata": {
    "ExecuteTime": {
     "end_time": "2020-02-15T10:07:51.310810Z",
     "start_time": "2020-02-15T10:07:50.508289Z"
    }
   },
   "source": [
    "[Hint](# \"You will need to use cv2 putText function -> putText(img, text, coordinates, fontFace, fontScale, color, thickness, lineType). For fonts check the enum cv2.FONT_HERSHEY_\") "
   ]
  },
  {
   "cell_type": "markdown",
   "metadata": {},
   "source": [
    "Now that you know how to load annotate and save images lets start manually annotating some images"
   ]
  },
  {
   "cell_type": "markdown",
   "metadata": {},
   "source": [
    "![](annotations.jpg)"
   ]
  },
  {
   "cell_type": "code",
   "execution_count": null,
   "metadata": {},
   "outputs": [],
   "source": [
    "# Load as many images as you like and start annotating objects in the image, \n",
    "# Before annotating the images make a copy of the image so we keep the original without changes\n",
    "# Use the format proposed in the example above\n",
    "\n"
   ]
  },
  {
   "cell_type": "code",
   "execution_count": null,
   "metadata": {},
   "outputs": [],
   "source": [
    "# Display the images that you have annotated above, both versions, the original one and the annotated one\n"
   ]
  },
  {
   "cell_type": "markdown",
   "metadata": {},
   "source": [
    "# Mini Projects"
   ]
  },
  {
   "cell_type": "markdown",
   "metadata": {},
   "source": [
    "With all that you accomplished to do above you are now ready to do your first mini project!, you might need to learn some more new things to accomplish some of the harder levels below, it is very important to get used to the openCV docs \n",
    "\n",
    "## Meme creator\n",
    "\n",
    "### Level 1\n",
    "1. Create a basic Meme creator with one image and a short line of text, using any openCV font\n",
    "\n",
    "### Level 2\n",
    "1. Use the classic meme font (impact)\n",
    "\n",
    "### Level 3\n",
    "1. Improve it by adding 2 to 3 lines with the text on the top of the image and the bottom of the image\n",
    "1. Make the text in white and with black contours\n",
    "\n",
    "### Level 4\n",
    "1. Make the text center automatically [Hint](# \"getTextSize\") \n",
    "1. If the text is too long it should wrap the text in as many lines as needed\n",
    "\n"
   ]
  },
  {
   "cell_type": "markdown",
   "metadata": {},
   "source": [
    "## QR Reader"
   ]
  },
  {
   "attachments": {},
   "cell_type": "markdown",
   "metadata": {},
   "source": [
    "### Level 1\n",
    "1. Researn on the openCV docs and learn about QRCodeDetector\n",
    "1. Grab any QR code from google images for example this one: ![](https://blog-trycontechnologi.netdna-ssl.com/blog/qrbatch/wp-content/uploads/sites/7/2019/07/ID-Card-with-QR-Code-2-1.png) or any other. \n",
    "1. Detect the code using QRCodeDetector\n",
    "1. Print QR detected if a QR has been detected in the image\n",
    "\n",
    "### Level 2\n",
    "1. Decode and print the decoded text\n",
    "1. Draw a rectangle around the QR code that has been detected and show it on screen\n",
    "1. Save the QR region of the image to disk\n"
   ]
  }
 ],
 "metadata": {
  "kernelspec": {
   "display_name": "Python 3",
   "language": "python",
   "name": "python3"
  },
  "language_info": {
   "codemirror_mode": {
    "name": "ipython",
    "version": 3
   },
   "file_extension": ".py",
   "mimetype": "text/x-python",
   "name": "python",
   "nbconvert_exporter": "python",
   "pygments_lexer": "ipython3",
   "version": "3.8.2"
  }
 },
 "nbformat": 4,
 "nbformat_minor": 2
}
