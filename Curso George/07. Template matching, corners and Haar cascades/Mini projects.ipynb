{
 "cells": [
  {
   "cell_type": "markdown",
   "metadata": {},
   "source": [
    "# Mini projects\n",
    "\n",
    "You can do the projects in any order, just choose the ones that you like the most"
   ]
  },
  {
   "cell_type": "markdown",
   "metadata": {
    "heading_collapsed": true
   },
   "source": [
    "### Cars detector"
   ]
  },
  {
   "cell_type": "markdown",
   "metadata": {
    "hidden": true
   },
   "source": [
    "1. Create a classifier to detect cars in an image\n",
    "1. If at least one car was detected write Car Detected (in Green) on top of the image, otherwise write No car detected (in Red)\n",
    "1. Save the image to disk\n",
    "1. Show the image result inside the notebook\n",
    "1. Make it work with a video\n",
    "1. Put a bounding box around the cars detected\n",
    "1. Get a higher resolution video and extract the car plates and save them to disk"
   ]
  },
  {
   "cell_type": "markdown",
   "metadata": {},
   "source": [
    "### Sudoku Solver"
   ]
  },
  {
   "cell_type": "markdown",
   "metadata": {},
   "source": [
    "1. Create function that given an image of a Sudoku game crops and extracts each cell \n",
    "1. Extract the number from each cropped cell (if blank extract it as 0)\n",
    "1. Place the extracted numbers in an array (each block of 9 numbers is one array)\n",
    "1. Apply the sudoku solver to the array to get the solution\n",
    "1. Write the solution numbers in the cells"
   ]
  }
 ],
 "metadata": {
  "kernelspec": {
   "display_name": "Python 3",
   "language": "python",
   "name": "python3"
  },
  "language_info": {
   "codemirror_mode": {
    "name": "ipython",
    "version": 3
   },
   "file_extension": ".py",
   "mimetype": "text/x-python",
   "name": "python",
   "nbconvert_exporter": "python",
   "pygments_lexer": "ipython3",
   "version": "3.8.2"
  }
 },
 "nbformat": 4,
 "nbformat_minor": 2
}
