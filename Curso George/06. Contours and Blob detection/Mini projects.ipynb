{
 "cells": [
  {
   "cell_type": "markdown",
   "metadata": {},
   "source": [
    "# Mini projects\n",
    "\n",
    "You can do the projects in any order, just choose the ones that you like the most"
   ]
  },
  {
   "cell_type": "markdown",
   "metadata": {
    "heading_collapsed": true
   },
   "source": [
    "### Identify shapes"
   ]
  },
  {
   "cell_type": "markdown",
   "metadata": {
    "hidden": true
   },
   "source": [
    "1. Make a function that given an image with different types of regular shapes (triangles, squares, rectangles, circles, penthagons, exagons etc) it can detect and __draw a blue contour around the triangles__ \n",
    "2. Extend the function so it draws a green contour around the penthagons\n",
    "3. Now we also need to detect rectangles, make sure squares are not being confused by rectangles\n",
    "4. Make sure only the external contours are drawn on the shapes\n",
    "5. Add the name of the shape on top of each image\n",
    "6. Only draw the contour around the biggest shape of each type"
   ]
  },
  {
   "cell_type": "markdown",
   "metadata": {
    "heading_collapsed": true
   },
   "source": [
    "### Book cover extractor"
   ]
  },
  {
   "cell_type": "markdown",
   "metadata": {
    "hidden": true
   },
   "source": [
    "1. From a given picture detect the book on the image and draw a box around it\n",
    "1. Crop the book from the picture\n",
    "1. If there is more than a book in the image make sure all books are extracted\n",
    "1. Transform the book perspective to show it as a 2D image (to see the proper book cover)"
   ]
  },
  {
   "cell_type": "markdown",
   "metadata": {
    "heading_collapsed": true
   },
   "source": [
    "### Coins  counter"
   ]
  },
  {
   "cell_type": "markdown",
   "metadata": {
    "hidden": true
   },
   "source": [
    "1. Create a function that can detect coins and draw  controur around them\n",
    "2. Count how may coins there are in the image and put it in text on top of the image\n",
    "3. Crop each coin and save the images on disk, display them on screen, the cropped coin should not have the contour on it\n",
    "4. Train a image classifier to detect which coins are on the image\n",
    "5. Put it all together and from the picture of some coins give the total amount of money \n",
    " "
   ]
  },
  {
   "cell_type": "markdown",
   "metadata": {},
   "source": [
    "## Handwriting recognition Improved"
   ]
  },
  {
   "cell_type": "markdown",
   "metadata": {},
   "source": [
    "We have already introduced this project in a previous day, if you have already work on it you will just need to go back to your existing code and improve it, if not then you will have to start from scratch"
   ]
  },
  {
   "cell_type": "markdown",
   "metadata": {},
   "source": [
    "1. Write a one digit number (from 0 to 9) on a paper and using your mobile phone take a picture of it\n",
    "1. Crop the image manually and pass it to a a function that will process it so it looks like a char in the MNIST dataset, make sure it is the correct size as well\n",
    "![4](img/4.png)"
   ]
  },
  {
   "cell_type": "markdown",
   "metadata": {},
   "source": [
    "1. Pass it through a MNIST classifier and print the prediction on screen"
   ]
  },
  {
   "cell_type": "markdown",
   "metadata": {},
   "source": [
    "1. Modify the image so now it also contains the predicted result on the image\n",
    "1. Try it with all digits"
   ]
  },
  {
   "cell_type": "markdown",
   "metadata": {},
   "source": [
    "### Improved version\n",
    "1. Write a secuence of 4 numbers or more in a paper, for instance it could be a year, a phone number, or anything else make a photo of it\n",
    "1. Apply everything you now so far and given a original photo of the number you wrote on paper as the input of a function and return the number as a string. \n",
    "1. The function will have to process the image, detect and extract the numbers one by one and then recognize them to be able to get the labels, concatenate them (in the right order!) and return them as a single string."
   ]
  },
  {
   "cell_type": "markdown",
   "metadata": {},
   "source": [
    "This might not be a simple project, you will need to experiment a lot and try different things, so do not feel discouraged and enjoy the challenge!"
   ]
  },
  {
   "cell_type": "code",
   "execution_count": null,
   "metadata": {},
   "outputs": [],
   "source": []
  }
 ],
 "metadata": {
  "kernelspec": {
   "display_name": "Python 3",
   "language": "python",
   "name": "python3"
  },
  "language_info": {
   "codemirror_mode": {
    "name": "ipython",
    "version": 3
   },
   "file_extension": ".py",
   "mimetype": "text/x-python",
   "name": "python",
   "nbconvert_exporter": "python",
   "pygments_lexer": "ipython3",
   "version": "3.8.2"
  }
 },
 "nbformat": 4,
 "nbformat_minor": 2
}
